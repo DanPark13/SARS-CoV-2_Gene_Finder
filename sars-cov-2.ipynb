{
 "cells": [
  {
   "cell_type": "markdown",
   "metadata": {},
   "source": [
    "# Identifying Potential Protein-Coding Genes in the SARS-CoV-2 Virus\n",
    "\n",
    "Author: **Daniel Park**\n",
    "\n",
    "The SARS-CoV-2 Virus, or more commonly known as COVID-19 or the coronavirus, an infectious disease caused by a newly discovered coronavirus. Most people infected with the COVID-19 Virus will experience mild to moderate respiratory illness and recover without requiring special treatment. Older people and those with underlying medical problems like cardiovascular disease, diabetes, chronic respiratory disease, and cancer are more likely to develop severe illness.\n",
    "\n",
    "Our bioinformatics analysis will identify potential protein-coding genes in the SARS-CoV-2 Virus and match these genes to known viral proteins. These proteins are all significant because we can use them to get a better understanding of these proteins can give us insights into how the Virus works and possible routes to treatment or a vaccine."
   ]
  },
  {
   "cell_type": "markdown",
   "metadata": {},
   "source": [
    "## Setting up the Analysis\n",
    "\n",
    "To ensure that the plots display correctly in this document, run the code cell below to reload modules before executing user code to make workflow possible."
   ]
  },
  {
   "cell_type": "code",
   "execution_count": 1,
   "metadata": {},
   "outputs": [],
   "source": [
    "%load_ext autoreload\n",
    "%autoreload 2"
   ]
  },
  {
   "cell_type": "markdown",
   "metadata": {},
   "source": [
    "After reloading the document, we can import the implementation used to analyze a FASTA file under the name \"NC_045512.2.fa\" that contains the nucleotide sequence of the SARS-CoV-2 virus (specifically, the isolate Wuhan-Hu-1 strain of the virus, which was the first to be sequenced). \n",
    "\n",
    "The cell below will import all the implementation functions under the file \"gene_finder.py\" and \"helpers.py.\""
   ]
  },
  {
   "cell_type": "code",
   "execution_count": 13,
   "metadata": {},
   "outputs": [],
   "source": [
    "from gene_finder import *\n",
    "from helpers import *"
   ]
  },
  {
   "cell_type": "markdown",
   "metadata": {},
   "source": [
    "## Gene Finding Analysis Implementation"
   ]
  },
  {
   "cell_type": "markdown",
   "metadata": {},
   "source": [
    "In order to perform an analysis of the SARS-CoV-2 genome, the `main` function will call `find_genes` that will find the potential protein-coding genes and twelve `helper` functions (listed below) that I will either use to help other helper functions or call them directly in the primary function 'find_genes' for analysis.\n",
    "\n",
    "The overall process to get our protein-coding genes is to find ORFs, or open reading frames, in a DNA strand that can be translated into proteins. We will find all the possible ORFs within a strand of DNA by randomly shuffling our strand and searching for ORFs, including in-frame ORFs and ORFs found one or two nucleotides from the start of the DNA strand. The ORFs found in the strand will be translated into amino acids that show us all the potential protein-coding genes.\n",
    "\n",
    "Once the candidate genes are identified, they can be looked up in [protein-BLAST](http://www.ncbi.nlm.nih.gov/blast/Blast.cgi?PROGRAM=blastp&PAGE_TYPE=BlastSearch&LINK_LOC=blasthome) to find information about five significant proteins in the DNA sequence.\n",
    "\n",
    "### Helper Functions\n",
    "\n",
    "#### get_complement"
   ]
  },
  {
   "cell_type": "markdown",
   "metadata": {},
   "source": [
    "The function `get_complement` takes a string nucleotide consisting of a single character of `A, T, C, or G`, each representing the DNA nucleotides adenine, thymine, cytosine, and guanine. The function will return a string (also consisting of a single character) representing the complementary nucleotide. In DNA, `A and T` complement each other, as are `C and G.`"
   ]
  },
  {
   "cell_type": "code",
   "execution_count": 7,
   "metadata": {},
   "outputs": [],
   "source": [
    "def get_complement(nucleotide):\n",
    "    complement = \"\"\n",
    "    if nucleotide in 'A':\n",
    "        complement = 'T'\n",
    "    elif nucleotide in 'T':\n",
    "        complement = 'A'\n",
    "    elif nucleotide in 'G':\n",
    "        complement = 'C'\n",
    "    else:\n",
    "        complement = 'G'\n",
    "    return complement"
   ]
  },
  {
   "cell_type": "markdown",
   "metadata": {},
   "source": [
    "#### get_reverse_complement"
   ]
  },
  {
   "cell_type": "markdown",
   "metadata": {},
   "source": [
    "The function `get_reverse_complement` takes a string strand representing a single strand of DNA (consisting entirely of the characters `A, T, C, and G`)and returns a string representing a complementary strand of DNA. The `get_complement` function mentioned before will get a nucleotide from the strand and compute the strand's reversal inside the function."
   ]
  },
  {
   "cell_type": "code",
   "execution_count": 8,
   "metadata": {},
   "outputs": [],
   "source": [
    "def get_reverse_complement(strand):\n",
    "    reverse_sequence = ''\n",
    "    for base in reversed(strand):\n",
    "        reverse_sequence += get_complement(base)\n",
    "    return reverse_sequence"
   ]
  },
  {
   "cell_type": "markdown",
   "metadata": {},
   "source": [
    "#### rest_of_orf\n",
    "\n",
    "An open reading frame (ORF) is a sequence of nucleotides in a DNA strand that can be translated into a protein, which will be a crucial component of identifying genes of interest in DNA. \n",
    "\n",
    "The function 'rest_of_orf' takes a string strand representing a strand of DNA that begins with a start codon and returns the sequence of nucleotides representing the rest of the ORF, up to but not including the next stop codon, which includes `'TAA, 'TAG', 'TGA.'`"
   ]
  },
  {
   "cell_type": "code",
   "execution_count": 9,
   "metadata": {},
   "outputs": [],
   "source": [
    "def rest_of_orf(strand):\n",
    "    strand_list = [strand[nucleotide:nucleotide+3] for nucleotide in range(0, len(strand), 3)]\n",
    "\n",
    "    for codon_index, codon in enumerate(strand_list):\n",
    "        if amino_acid(codon) == \"*\":\n",
    "            strand_list = strand_list[0:codon_index]\n",
    "            break\n",
    "\n",
    "    return ''.join(strand_list)"
   ]
  },
  {
   "cell_type": "markdown",
   "metadata": {},
   "source": [
    "#### find_all_orfs_one_frame\n",
    "\n",
    "The function `find_all_orfs_one_frame` will take a string `strand` representing a strand of DNA and return a list of strings representing all the ORFS in one frame, which means that each ORF should be a multiple of three nucleotides from the start of the strand. The`rest_of_orf` function is called within this function to find all the ORFs to help me get all the possible ORFs within the string `strand.`"
   ]
  },
  {
   "cell_type": "code",
   "execution_count": 10,
   "metadata": {},
   "outputs": [],
   "source": [
    "def find_all_orfs_one_frame(strand):\n",
    "    frame = \"\"\n",
    "    in_frame_orfs = []\n",
    "    \n",
    "    while len(strand) >= 3:\n",
    "        current_codon = strand[:3]\n",
    "        if current_codon != \"ATG\":\n",
    "            strand = strand[3:]\n",
    "            continue\n",
    "        frame = rest_of_orf(strand)\n",
    "        strand = strand[len(frame):]\n",
    "        in_frame_orfs.append(frame)\n",
    "\n",
    "    return in_frame_orfs"
   ]
  },
  {
   "cell_type": "markdown",
   "metadata": {},
   "source": [
    "#### find_all_orfs\n",
    "\n",
    "The function `find_all_orfs` will have a similar process to `find_all_orfs_one_frame`, but instead of only searching for ORFs within the same frame, the function will find all the ORFs within different frames as well, meaning that `strand` taken in by the function will be shifted by one and two nucleotides as well.\n",
    "\n",
    "Below is an example of how frameshifting will occur:\n",
    "\n",
    "```\n",
    "ATG AAA ATG GCA TGA  <- In-frame\n",
    "A TGA AAA TGG CAT GA  <- Frame-shifted by one nucleotide\n",
    "AT GAA AAT GGC ATG A  <- Frame-shifted by two nucleotides\n",
    "```\n",
    "\n",
    "I used the previous function `find_all_orfs_one_frame` to help me find all the ORFs when the strand is frame-shifted "
   ]
  },
  {
   "cell_type": "code",
   "execution_count": 11,
   "metadata": {},
   "outputs": [],
   "source": [
    "def find_all_orfs(strand):\n",
    "    all_orfs = []\n",
    "\n",
    "    for start in range(3):\n",
    "        all_orfs += find_all_orfs_one_frame(strand[start:])\n",
    "\n",
    "    return all_orfs"
   ]
  },
  {
   "cell_type": "markdown",
   "metadata": {},
   "source": [
    "#### find_all_orfs_both_strands\n",
    "\n",
    "The function `find_all_orfs_both_strands` will complete the same process as `find_all_orfs` by searching for all ORFs within different frames with both the original `strand` and its reverse complement. "
   ]
  },
  {
   "cell_type": "code",
   "execution_count": 12,
   "metadata": {},
   "outputs": [
    {
     "data": {
      "application/vnd.jupyter.widget-view+json": {
       "model_id": "d6a17da6a9794c6bac7771bdbce2813a",
       "version_major": 2,
       "version_minor": 0
      },
      "text/plain": [
       "HBox(children=(HTML(value=''), FloatProgress(value=1.0, bar_style='info', layout=Layout(width='20px'), max=1.0…"
      ]
     },
     "metadata": {},
     "output_type": "display_data"
    }
   ],
   "source": [
    "def find_all_orfs_both_strands(strand):\n",
    "    all_frame_orfs_both_strands = []\n",
    "\n",
    "    for _ in range(2):\n",
    "        all_frame_orfs_both_strands.append(find_all_orfs(strand))\n",
    "        strand = get_reverse_complement(strand)\n",
    "\n",
    "    all_frame_orfs_both_strands = [\n",
    "        orf for orf_list in all_frame_orfs_both_strands for orf in orf_list]\n",
    "\n",
    "    return all_frame_orfs_both_strands"
   ]
  },
  {
   "cell_type": "markdown",
   "metadata": {},
   "source": [
    "#### find_longest_orf"
   ]
  },
  {
   "cell_type": "markdown",
   "metadata": {},
   "source": [
    "This function will find the longest ORF in that list with the list of ORFs found in `find_all_orfs_both_strands`.\n",
    "\n",
    "However, instead of having the list as our input, the string `strand` is the input. Calling the `find_all_orfs_both_strands` function in `find_longest_orf` can run this function on its own without having to call `find_all_orfs_both_strands` before this function to have an output."
   ]
  },
  {
   "cell_type": "code",
   "execution_count": 14,
   "metadata": {},
   "outputs": [],
   "source": [
    "def find_longest_orf(strand):\n",
    "    list_of_orfs = find_all_orfs_both_strands(strand)\n",
    "    longest_orf_length = 0\n",
    "    longest_orf = \"\"\n",
    "\n",
    "    for orf in list_of_orfs:\n",
    "        if len(orf) > longest_orf_length:\n",
    "            longest_orf_length = len(orf)\n",
    "            longest_orf = orf\n",
    "    return longest_orf"
   ]
  },
  {
   "cell_type": "markdown",
   "metadata": {},
   "source": [
    "#### shuffle\n",
    "\n",
    "The function `shuffle` will shuffle nucleotides' order in a strand of DNA and return the shuffled DNA strand."
   ]
  },
  {
   "cell_type": "code",
   "execution_count": 17,
   "metadata": {
    "scrolled": true
   },
   "outputs": [],
   "source": [
    "def shuffle(strand):\n",
    "    return \"\".join(random.sample(strand, len(strand)))"
   ]
  },
  {
   "cell_type": "markdown",
   "metadata": {},
   "source": [
    "#### noncoding_orf_threshold"
   ]
  },
  {
   "cell_type": "markdown",
   "metadata": {},
   "source": [
    "The function `noncoding_orf_threshold` filters out ORFs that are too short of producing any valuable proteins and filters them out.\n",
    "\n",
    "The function takes a string `strand` representing a strand of DNA and a positive integer `num_trials` representing a specific amount of trials to run, and randomly shuffles the nucleotides in the strand for each trial and finds the longest ORF in either the shuffled strand or its reverse complement. The function keeps track of the minimum length of this value over all trials and returns an integer representing this minimum length."
   ]
  },
  {
   "cell_type": "code",
   "execution_count": 16,
   "metadata": {},
   "outputs": [],
   "source": [
    "def noncoding_orf_threshold(strand, num_trials):\n",
    "    orfs_lengths = []\n",
    "\n",
    "    for _ in tqdm(range(num_trials)):\n",
    "        # shuffles the strand\n",
    "        shuffled_strand = shuffle(strand)\n",
    "\n",
    "        # finds the longest ORF in either the shuffled strand or its reverse complement.\n",
    "        longest_orf = find_longest_orf(shuffled_strand)\n",
    "\n",
    "        # keeps track of the minimum length of this value over all of the trials\n",
    "        length_of_longest_orf = len(longest_orf)\n",
    "\n",
    "        # returns an integer representing this minimum length\n",
    "        orfs_lengths.append(length_of_longest_orf)\n",
    "\n",
    "    # returns an integer representing this minimum length\n",
    "    return min(orfs_lengths)"
   ]
  },
  {
   "cell_type": "markdown",
   "metadata": {},
   "source": [
    "#### amino_acids"
   ]
  },
  {
   "cell_type": "markdown",
   "metadata": {},
   "source": [
    "The function `amino_acids` returns the amino acid symbol corresponding to the DNA codon."
   ]
  },
  {
   "cell_type": "code",
   "execution_count": 18,
   "metadata": {},
   "outputs": [],
   "source": [
    "def amino_acid(codon): \n",
    "    # Some amino acids can be determined solely by the first two nucleotides.\n",
    "    if codon[:2] in PARTIAL_CODON_TABLE:\n",
    "        return PARTIAL_CODON_TABLE[codon[:2]]\n",
    "\n",
    "    # Many other amino acids can be determined by the first two nucleotides,\n",
    "    # plus whether the last nucleotide is a purine (A/G) or pyramidine (T/C).\n",
    "    if codon[:2] in BRANCHED_CODON_TABLE:\n",
    "        branches = BRANCHED_CODON_TABLE[codon[:2]]\n",
    "        if codon[-1] in PURINES:\n",
    "            return branches[0]\n",
    "        return branches[1]\n",
    "\n",
    "    # The few amino acids left can be handled on a case-by-case basis.\n",
    "    if codon == \"ATG\":\n",
    "        return \"M\"  # Methionine/START\n",
    "    if codon[:2] == \"AT\":\n",
    "        return \"I\"  # Isoleucine\n",
    "    # At this point we know the first two characters of the codon are \"TG\".\n",
    "    if codon[-1] not in PURINES:\n",
    "        return \"C\"  # Cysteine\n",
    "    if codon[-1] == \"A\":\n",
    "        return \"*\"  # STOP\n",
    "    return \"W\"  # Tryptophan"
   ]
  },
  {
   "cell_type": "markdown",
   "metadata": {},
   "source": [
    "#### encode_amino_acids"
   ]
  },
  {
   "cell_type": "markdown",
   "metadata": {},
   "source": [
    "Using the function `amino_acids`, I can change a DNA strand into its amino acid form. \n",
    "\n",
    "The function `encode_amino_acids` takes a string `orf` representing a strand of DNA that is an ORF and returns a string representing the sequence of amino acids, with each amino acid written as its one-letter symbol."
   ]
  },
  {
   "cell_type": "code",
   "execution_count": 19,
   "metadata": {},
   "outputs": [],
   "source": [
    "def encode_amino_acids(orf):\n",
    "    amino_acids = \"\"\n",
    "\n",
    "    for triple in range(0, len(orf), 3):\n",
    "        codon = orf[triple:triple + 3]\n",
    "        amino_acids += amino_acid(codon)\n",
    "\n",
    "    return amino_acids"
   ]
  },
  {
   "cell_type": "markdown",
   "metadata": {},
   "source": [
    "#### load_fasta_file"
   ]
  },
  {
   "cell_type": "markdown",
   "metadata": {},
   "source": [
    "The function `load_fasta_file` will read and return a sequence of DNA nucleotides from a FASTA file.\n",
    "\n",
    "In bioinformatics and biochemistry, a FASTA file format contains nucleotide or amino acid sequences where nucleotides or amino acids are represented using single-letter codes. "
   ]
  },
  {
   "cell_type": "code",
   "execution_count": 20,
   "metadata": {},
   "outputs": [],
   "source": [
    "def load_fasta_file(path):\n",
    "    \"\"\"\n",
    "    Read and return a sequence of DNA nucleotides from a FASTA file.\n",
    "\n",
    "    Args:\n",
    "        path: A string representing the path to the FASTA file.\n",
    "\n",
    "    Returns:\n",
    "        A string representing the sequence of DNA nucleotides (i.e., the\n",
    "        characters A, T, C, or G) in the FASTA file.\n",
    "    \"\"\"\n",
    "    sequence = \"\"\n",
    "    read_header = False\n",
    "    with open(path, \"r\") as fasta_file:\n",
    "        for line in fasta_file:\n",
    "            if not read_header:\n",
    "                # Skip the header line.\n",
    "                read_header = True\n",
    "                continue\n",
    "            sequence += line.strip()\n",
    "    return sequence"
   ]
  },
  {
   "cell_type": "markdown",
   "metadata": {},
   "source": [
    "### Main Function"
   ]
  },
  {
   "cell_type": "markdown",
   "metadata": {},
   "source": [
    "With all the helper functions implemented, I put everything together to find potential protein-coding genes.\n",
    "\n",
    "The function `find_genes` will take in a string `path` that represents the FASTA file's location with the SARCS-CoV-2 sequence and load it into a string of nucleotides. Next, I will find the threshold length to use as a cutoff for coding ORFs, using 1,500 trials of shuffling the nucleotide sequence. Then, I will find all the ORFs in both strands of the sequence. In all those ORFs, I will translate the ORF to a sequence of amino acids for any ORFs longer than the threshold length."
   ]
  },
  {
   "cell_type": "code",
   "execution_count": 21,
   "metadata": {},
   "outputs": [],
   "source": [
    "def find_genes(path):\n",
    "    # to be returned\n",
    "    amino_acid_sequences = []\n",
    "\n",
    "    # Loading the string of nucleotides from the file.\n",
    "    genes = load_fasta_file(path)\n",
    "\n",
    "    # Determining the threshold length to use as a cutoff\n",
    "    # for coding ORFs, using 1,500 trials of shuffling\n",
    "    # the nucleotide sequence.\n",
    "    threshold_length = noncoding_orf_threshold(genes, 1500)\n",
    "\n",
    "    # Find all ORFs in both strands of the sequence.\n",
    "    all_orfs_list = find_all_orfs_both_strands(genes)\n",
    "\n",
    "    # For any ORF longer than the cutoff length,\n",
    "    # translate the ORF to a sequence of amino acids.\n",
    "    for orf in tqdm(all_orfs_list):\n",
    "        if len(orf) > threshold_length:\n",
    "            protein_orf = encode_amino_acids(orf)\n",
    "            amino_acid_sequences.append(protein_orf)\n",
    "\n",
    "    return amino_acid_sequences"
   ]
  },
  {
   "cell_type": "markdown",
   "metadata": {},
   "source": [
    "## Identifying Potential Protein-Coding Genes"
   ]
  },
  {
   "cell_type": "markdown",
   "metadata": {},
   "source": [
    "After the implementation, I ran the `find_genes` function to identify the potential protein-coding genes in the SARS-CoV-2 Virus.\n",
    "\n",
    "Run the cell below to get a list of candidate genes that could be potential proteins that can give us insights into how the Virus works and possible routes to treatment or a vaccine. Fair warning, the code below may take a while, and there should be a progress bar that shows how much longer the function must run in order to be complete."
   ]
  },
  {
   "cell_type": "code",
   "execution_count": 22,
   "metadata": {
    "scrolled": false
   },
   "outputs": [
    {
     "name": "stderr",
     "output_type": "stream",
     "text": [
      "<ipython-input-16-4255bd2c1694>:4: TqdmDeprecationWarning: This function will be removed in tqdm==5.0.0\n",
      "Please use `tqdm.notebook.tqdm` instead of `tqdm.tqdm_notebook`\n",
      "  for _ in tqdm(range(num_trials)):\n"
     ]
    },
    {
     "data": {
      "application/vnd.jupyter.widget-view+json": {
       "model_id": "6e1e37ebc3e542d38dc4bcee2696ab33",
       "version_major": 2,
       "version_minor": 0
      },
      "text/plain": [
       "HBox(children=(HTML(value=''), FloatProgress(value=0.0, max=1500.0), HTML(value='')))"
      ]
     },
     "metadata": {},
     "output_type": "display_data"
    },
    {
     "name": "stdout",
     "output_type": "stream",
     "text": [
      "\n"
     ]
    },
    {
     "name": "stderr",
     "output_type": "stream",
     "text": [
      "<ipython-input-21-7db4be4b6d2c>:18: TqdmDeprecationWarning: This function will be removed in tqdm==5.0.0\n",
      "Please use `tqdm.notebook.tqdm` instead of `tqdm.tqdm_notebook`\n",
      "  for orf in tqdm(all_orfs_list):\n"
     ]
    },
    {
     "data": {
      "application/vnd.jupyter.widget-view+json": {
       "model_id": "0c44efd64bd246bca06b04b8bcfa4463",
       "version_major": 2,
       "version_minor": 0
      },
      "text/plain": [
       "HBox(children=(HTML(value=''), FloatProgress(value=0.0, max=712.0), HTML(value='')))"
      ]
     },
     "metadata": {},
     "output_type": "display_data"
    },
    {
     "name": "stdout",
     "output_type": "stream",
     "text": [
      "\n"
     ]
    },
    {
     "data": {
      "text/plain": [
       "['MVPHISRQRLTKYTMADLVYALRHFDEGNCDTLKEILVTYNCCDDDYFNKKDWYDFVENPDILRVYANLGERVRQALLKTVQFCDAMRNAGIVGVLTLDNQDLNGNWYDFGDFIQTTPGSGVPVVDSYYSLLMPILTLTRALTAESHVDTDLTKPYIKWDLLKYDFTEERLKLFDRYFKYWDQTYHPNCVNCLDDRCILHCANFNVLFSTVFPPTSFGPLVRKIFVDGVPFVVSTGYHFRELGVVHNQDVNLHSSRLSFKELLVYAADPAMHAASGNLLLDKRTTCFSVAALTNNVAFQTVKPGNFNKDFYDFAVSKGFFKEGSSVELKHFFFAQDGNAAISDYDYYRYNLPTMCDIRQLLFVVEVVDKYFDCYDGGCINANQVIVNNLDKSAGFPFNKWGKARLYYDSMSYEDQDALFAYTKRNVIPTITQMNLKYAISAKNRARTVAGVSICSTMTNRQFHQKLLKSIAATRGATVVIGTSKFYGGWHNMLKTVYSDVENPHLMGWDYPKCDRAMPNMLRIMASLVLARKHTTCCSLSHRFYRLANECAQVLSEMVMCGGSLYVKPGGTSSGDATTAYANSVFNICQAVTANVNALLSTDGNKIADKYVRNLQHRLYECLYRNRDVDTDFVNEFYAYLRKHFSMMILSDDAVVCFNSTYASQGLVASIKNFKSVLYYQNNVFMSEAKCWTETDLTKGPHEFCSQHTMLVKQGDDYVYLPYPDPSRILGAGCFVDDIVKTDGTLMIERFVSLAIDAYPLTKHPNQEYADVFHLYLQYIRKLHDELTGHMLDMYSVMLTNDNTSRYWEPEFYEAMYTPHTVLQAVGACVLCNSQTSLRCGACIRRPFLCCKCCYDHVISTSHKLVLSVNPYVCNAPGCDVTDVTQLYLGGMSYYCKSHKPPISFPLCANGQVFGLYKNTCVGSDNVTDFNAIATCDWTNAGDYILANTCTERLKLFAAETLKATEETFKLSYGIATVREVLSDRELHLSWEVGKPRPPLNRNYVFTGYRVTKNSKVQIGEYTFEKGDYGDAVVYRGTTTYKLNVGDYFVLTSHTVMPLSAPTLVPQEHYVRITGLYPTLNISDEFSSNVANYQKVGMQKYSTLQGPPGTGKSHFAIGLALYYPSARIVYTACSHAAVDALCEKALKYLPIDKCSRIIPARARVECFDKFKVNSTLEQYVFCTVNALPETTADIVVFDEISMATNYDLSVVNARLRAKHYVYIGDPAQLPAPRTLLTKGTLEPEYFNSVCRLMKTIGPDMFLGTCRRCPAEIVDTVSALVYDNKLKAHKDKSAQCFKMFYKGVITHDVSSAINRPQIGVVREFLTRNPAWRKAVFISPYNSQNAVASKILGLPTQTVDSSQGSEYDYVIFTQTTETAHSCNVNRFNVAITRAKVGILCIMSDRDLYDKLQFTSLEIPRRNVATLQAENVTGLFKDCSKVITGLHPTQAPTHLSVDTKFKTEGLCVDIPGIPKDMTYRRLISMMGFKMNYQVNGYPNMFITREEAIRHVRAWIGFDVEGCHATREAVGTNLPLQLGFSTGVNLVAVPTGYVDTPNNTDFSRVSAKPPPGDQFKHLIPLMYKGLPWNVVRIKIVQMLSDTLKNLSDRVVFVLWAHGFELTSMKYFVKIGPERTCCLCDRRATCFSTASDTYACWHHSIGFDYVYNPFMIDVQQWGFTGNLQSNHDLYCQVHGNAHVASCDAIMTRCLAVHECFVKRVDWTIEYPIIGDELKINAACRKVQHMVVKAALLADKFPVLHDIGNPKAIKCVPQADVEWKFYDAQPCSDKAYKIEELFYSYATHSDKFTDGVCLFWNCNVDRYPANSIVCRFDTRVLSNLNLPGCDGGSLYVNKHAFHTPAFDKSAFVNLKQLPFFYYSDSPCESHGKQVVSDIDYVPLKSATCITRCNLGGAVCRHHANEYRLYLDAYNMMISAGFSLWVYKQFDTYNLWNTFTRLQSLENVAFNVVNKGHFDGQQGEVPVSIINNTVYTKVDGVDVELFENKTTLPVNVAFELWAKRNIKPVPEVKILNNLGVDIAANTVIWDYKRDAPAHISTIGVCSMTDIAKKPTETICAPLTVFFDGRVDGQVDLFRNARNGVLITEGSVKGLQPSVGPKQASLNGVTLIGEAVKTQFNYYKKVDGVVQQLPETYFTQSRNLQEFKPRSQMEIDFLELAMDEFIERYKLEGYAFEHIVYGDFSHSQLGGLHLLIGLAKRFKESPFELEDFIPMDSTVKNYFITDAQTGSSKCVCSVIDLLLDDFVEIIKSQDLSVVSKVVKVTIDYTEISFMLWCKDGHVETFYPKLQSSQAWQPGVAMPNLYKMQRMLLEKCDLQNYGDSATLPKGIMMNVAKYTQLCQYLNTLTLAVPYNMRVIHFGAGSDKGVAPGTAVLRQWLPTGTLLVDSDLNDFVSDADSTLIGDCATVHTANKWDLIISDMYDPKTKNVTKENDSKEGFFTYICGFIQQKLALGGSVAIKITEHSWNADLYKLMGHFAWWTAFVTNVNASSSEAFLIGCNYLGKPREQIDGYVMHANYIFWRNTNPIQLSSYSLFDMSKFPLKLRGTAVMSLKEGQINDMILSLLSKGRLIIRENNRVVISSDVLVNN',\n",
       " 'MDLFMRIFTIGTVTLKQGEIKDATPSDFVRATATIPIQASLPFGWLIVGVALLAVFQSASKIITLKKRWQLALSKGVHFVCNLLLLFVTVYSHLLLVAAGLEAPFLYLYALVYFLQSINFVRIIMRLWLCWKCRSKNPLLYDANYFLCWHTNCYDYCIPYNSVTSSIVITSGDGTTSPISEHDYQIGGYTEKWESGVKDCVVLHSYFTSDYYQLYSTQLSTDTGVEHVTFFIYNKIVDEPEEHVQIHTIDGSSGVVNPVMEPIYDEPTTTTSVPL',\n",
       " 'MYSFVSEETGTLIVNSVLLFLAFVVFLLVTLAILTALRLCAYCCNIVNVSLVKPSFYVYSRVKNLNSSRVPDLLV',\n",
       " 'MKIILFLALITLATCELYHYQECVRGTTVLLKEPCSSGTYEGNSPFHPLADNKFALTCFSTQFAFACPDGVKHVYQLRARSVSPKLFIRQEEVQELYSPIFLIVAAIVFITLCFTLKRKTE',\n",
       " 'MESLVPGFNEKTHVQLSLPVLQVRDVLVRGFGDSVEEVLSEARQHLKDGTCGLVEVEKGVLPQLEQPYVFIKRSDARTAPHGHVMVELVAELEGIQYGRSGETLGVLVPHVGEIPVAYRKVLLRKNGNKGAGGHSYGADLKSFDLGDELGTDPYEDFQENWNTKHSSGVTRELMRELNGGAYTRYVDNNFCGPDGYPLECIKDLLARAGKASCTLSEQLDFIDTKRGVYCCREHEHEIAWYTERSEKSYELQTPFEIKLAKKFDTFNGECPNFVFPLNSIIKTIQPRVEKKKLDGFMGRIRSVYPVASPNECNQMCLSTLMKCDHCGETSWQTGDFVKATCEFCGTENLTKEGATTCGYLPQNAVVKIYCPACHNSEVGPEHSLAEYHNESGLKTILRKGGRTIAFGGCVFSYVGCHNKCAYWVPRASANIGCNHTGVVGEGSEGLNDNLLEILQKEKVNINIVGDFKLNEEIAIILASFSASTSAFVETVKGLDYKAFKQIVESCGNFKVTKGKAKKGAWNIGEQKSILSPLYAFASEAARVVRSIFSRTLETAQNSVRVLQKAAITILDGISQYSLRLIDAMMFTSDLATNNLVVMAYITGGVVQLTSQWLTNIFGTVYEKLKPVLDWLEEKFKEGVEFLRDGWEIVKFISTCACEIVGGQIVTCAKEIKESVQTFFKLVNKFLALCADSIIIGGAKLKALNLGETFVTHSKGLYRKCVKSREETGLLMPLKAPKEIIFLEGETLPTEVLTEEVVLKTGDLQPLEQPTSEAVEAPLVGTPVCINGLMLLEIKDTEKYCALAPNMMVTNNTFTLKGGAPTKVTFGDDTVIEVQGYKSVNITFELDERIDKVLNEKCSAYTVELGTEVNEFACVVADAVIKTLQPVSELLTPLGIDLDEWSMATYYLFDESGEFKLASHMYCSFYPPDEDEEEGDCEEEEFEPSTQYEYGTEDDYQGKPLEFGATSAALQPEEEQEEDWLDDDSQQTVGQQDGSEDNQTTTIQTIVEVQPQLEMELTPVVQTIEVNSFSGYLKLTDNVYIKNADIVEEAKKVKPTVVVNAANVYLKHGGGVAGALNKATNNAMQVESDDYIATNGPLKVGGSCVLSGHNLAKHCLHVVGPNVNKGEDIQLLKSAYENFNQHEVLLAPLLSAGIFGADPIHSLRVCVDTVRTNVYLAVFDKNLYDKLVSSFLEMKSEKQVEQKIAEIPKEEVKPFITESKPSVEQRKQDDKKIKACVEEVTTTLEETKFLTENLLLYIDINGNLHPDSATLVSDIDITFLKKDAPYIVGDVVQEGVLTAVVIPTKKAGGTTEMLAKALRKVPTDNYITTYPGQGLNGYTVEEAKTVLKKCKSAFYILPSIISNEKQEILGTVSWNLREMLAHAEETRKLMPVCVETKAIVSTIQRKYKGIKIQEGVVDYGARFYFYTSKTTVASLINTLNDLNETLVTMPLGYVTHGLNLEEAARYMRSLKVPATVSVSSPDAVTAYNGYLTSSSKTPEEHFIETISLAGSYKDWSYSGQSTQLGIEFLKRGDKSVYYTSNPTTFHLDGEVITFDNLKTLLSLREVRTIKVFTTVDNINLHTQVVDMSMTYGQQFGPTYLDGADVTKIKPHNSHEGKTFYVLPNDDTLRVEAFEYYHTTDPSFLGRYMSALNHTKKWKYPQVNGLTSIKWADNNCYLATALLTLQQIELKFNPPALQDAYYRARAGEAANFCALILAYCNKTVGELGDVRETMSYLFQHANLDSCKRVLNVVCKTCGQQQTTLKGVEAVMYMGTLSYEQFKKGVQIPCTCGKQATKYLVQQESPFVMMSAPPAQYELKHGTFTCASEYTGNYQCGHYKHITSKETLYCIDGALLTKSSEYKGPITDVFYKENSYTTTIKPVTYKLDGVVCTEIDPKLDNYYKKDNSYFTEQPIDLVPNQPYPNASFDNFKFVCDNIKFADDLNQLTGYKKPASRELKVTFFPDLNGDVVAIDYKHYTPSFKKGAKLLHKPIVWHVNNATNKATYKPNTWCIRCLWSTKPVETSNSFDVLKSEDAQGMDNLACEDLKPVSEEVVENPTIQKDVLECNVKTTEVVGDIILKPANNSLKITEEVGHTDLMAAYVDNSSLTIKKPNELSRVLGLKTLATHGLAAVNSVPWDTIANYAKPFLNKVVSTTTNIVTRCLNRVCTNYMPYFFTLLLQLCTFTRSTNSRIKASMPTTIAKNTVKSVGKFCLEASFNYLKSPNFSKLINIIIWFLLLSVCLGSLIYSTAALGVLMSNLGMPSYCTGYREGYLNSTNVTIATYCTGSIPCSVCLSGLDSLDTYPSLETIQITISSFKWDLTAFGLVAEWFLAYILFTRFFYVLGLAAIMQLFFSYFAVHFISNSWLMWLIINLVQMAPISAMVRMYIFFASFYYVWKSYVHVVDGCNSSTCMMCYKRNRATRVECTTIVNGVRRSFYVYANGGKGFCKLHNWNCVNCDTFCAGSTFISDEVARDLSLQFKRPINPTDQSSYIVDSVTVKNGSIHLYFDKAGQKTYERHSLSHFVNLDNLRANNTKGSLPINVIVFDGKSKCEESSAKSASVYYSQLMCQPILLLDQALVSDVGDSAEVAVKMFDAYVNTFSSTFNVPMEKLKTLVATAEAELAKNVSLDNVLSTFISAARQGFVDSDVETKDVVECLKLSHQSDIEVTGDSCNNYMLTYNKVENMTPRDLGACIDCSARHINAQVAKSHNIALIWNVKDFMSLSEQLRKQIRSAAKKNNLPFKLTCATTRQVVNVVTTKIALKGGKIVNNWLKQLIKVTLVFLFVAAIFYLITPVHVMSKHTDFSSEIIGYKAIDGGVTRDIASTDTCFANKHADFDTWFSQRGGSYTNDKACPLIAAVITREVGFVVPGLPGTILRTTNGDFLHFLPRVFSAVGNICYTPSKLIEYTDFATSACVLAAECTIFKDASGKPVPYCYDTNVLEGSVAYESLRPDTRYVLMDGSIIQFPNTYLEGSVRVVTTFDSEYCRHGTCERSEAGVCVSTSGRWVLNNDYYRSLPGVFCGVDAVNLLTNMFTPLIQPIGALDISASIVAGGIVAIVVTCLAYYFMRFRRAFGEYSHVVAFNTLLFLMSFTVLCLTPVYSFLPGVYSVIYLYLTFYLTNDVSFLAHIQWMVMFTPLVPFWITIAYIICISTKHFYWFFSNYLKRRVVFNGVSFSTFEEAALCTFLLNKEMYLKLRSDVLLPLTQYNRYLALYNKYKYFSGAMDTTSYREAACCHLAKALNDFSNSGSDVLYQPPQTSITSAVLQSGFRKMAFPSGKVEGCMVQVTCGTTTLNGLWLDDVVYCPRHVICTSEDMLNPNYEDLLIRKSNHNFLVQAGNVQLRVIGHSMQNCVLKLKVDTANPKTPKYKFVRIQPGQTFSVLACYNGSPSGVYQCAMRPNFTIKGSFLNGSCGSVGFNIDYDCVSFCYMHHMELPTGVHAGTDLEGNFYGPFVDRQTAQAAGTDTTITVNVLAWLYAAVINGDRWFLNRFTTTLNDFNLVAMKYNYEPLTQDHVDILGPLSAQTGIAVLDMCASLKELLQNGMNGRTILGSALLEDEFTPFDVVRQCSGVTFQSAVKRTIKGTHHWLLLTILTSLLVLVQSTQWSLFFFLYENAFLPFAMGIIAMSAFAMMFVKHKHAFLCLFLLPSLATVAYFNMVYMPASWVMRIMTWLDMVDTSLSGFKLKDCVMYASAVVLLILMTARTVYDDGARRVWTLMNVLTLVYKVYYGNALDQAISMWALIISVTSNYSGVVTTVMFLARGIVFMCVEYCPIFFITGNTLQCIMLVYCFLGYFCTCYFGLFCLLNRYFRLTLGVYDYLVSTQEFRYMNSQGLLPPKNSIDAFKLNIKLLGVGGKPCIKVATVQSKMSDVKCTSVVLLSVLQQLRVESSSKLWAQCVQLHNDILLAKDTTEAFEKMVSLLSVLLSMQGAVDINKLCEEMLDNRATLQAIASEFSSLPSYAAFATAQEAYEQAVANGDSEVVLKKLKKSLNVAKSEFDRDAAMQRKLEKMADQAMTQMYKQARSEDKRAKVTSAMQTMLFTMLRKLDNDALNNIINNARDGCVPLNIIPLTTAAKLMVVIPDYNTYKNTCDGTTFTYASALWEIQQVVDADSKIVQLSEISMDNSPNLAWPLIVTALRANSAVKLQNNELSPVALRQMSCAAGTTQTACTDDNALAYYNTTKGGRFVLALLSDLQDLKWARFPKSDGTGTIYTELEPPCRFVTDTPKGPKVKYLYFIKGLNNLNRGMVLGSLAATVRLQAGNATEVPANSTVLSFCAFAVDAAKAYKDYLASGGQPITNCVKMLCTHTGTGQAITVTPEANMDQESFGGASCCLYCRCHIDHPNPKGFCDLKGKYVQIPTTCANDPVGFTLKNTVCTVCGMWKGYGCSCDQLREPMLQSADAQSFLNGFAV',\n",
       " 'MFLLTTKRTMFVFLVLLPLVSSQCVNLTTRTQLPPAYTNSFTRGVYYPDKVFRSSVLHSTQDLFLPFFSNVTWFHAIHVSGTNGTKRFDNPVLPFNDGVYFASTEKSNIIRGWIFGTTLDSKTQSLLIVNNATNVVIKVCEFQFCNDPFLGVYYHKNNKSWMESEFRVYSSANNCTFEYVSQPFLMDLEGKQGNFKNLREFVFKNIDGYFKIYSKHTPINLVRDLPQGFSALEPLVDLPIGINITRFQTLLALHRSYLTPGDSSSGWTAGAAAYYVGYLQPRTFLLKYNENGTITDAVDCALDPLSETKCTLKSFTVEKGIYQTSNFRVQPTESIVRFPNITNLCPFGEVFNATRFASVYAWNRKRISNCVADYSVLYNSASFSTFKCYGVSPTKLNDLCFTNVYADSFVIRGDEVRQIAPGQTGKIADYNYKLPDDFTGCVIAWNSNNLDSKVGGNYNYLYRLFRKSNLKPFERDISTEIYQAGSTPCNGVEGFNCYFPLQSYGFQPTNGVGYQPYRVVVLSFELLHAPATVCGPKKSTNLVKNKCVNFNFNGLTGTGVLTESNKKFLPFQQFGRDIADTTDAVRDPQTLEILDITPCSFGGVSVITPGTNTSNQVAVLYQDVNCTEVPVAIHADQLTPTWRVYSTGSNVFQTRAGCLIGAEHVNNSYECDIPIGAGICASYQTQTNSPRRARSVASQSIIAYTMSLGAENSVAYSNNSIAIPTNFTISVTTEILPVSMTKTSVDCTMYICGDSTECSNLLLQYGSFCTQLNRALTGIAVEQDKNTQEVFAQVKQIYKTPPIKDFGGFNFSQILPDPSKPSKRSFIEDLLFNKVTLADAGFIKQYGDCLGDIAARDLICAQKFNGLTVLPPLLTDEMIAQYTSALLAGTITSGWTFGAGAALQIPFAMQMAYRFNGIGVTQNVLYENQKLIANQFNSAIGKIQDSLSSTASALGKLQDVVNQNAQALNTLVKQLSSNFGAISSVLNDILSRLDKVEAEVQIDRLITGRLQSLQTYVTQQLIRAAEIRASANLAATKMSECVLGQSKRVDFCGKGYHLMSFPQSAPHGVVFLHVTYVPAQEKNFTTAPAICHDGKAHFPREGVFVSNGTHWFVTQRNFYEPQIITTDNTFVSGNCDVVIGIVNNTVYDPLQPELDSFKEELDKYFKNHTSPDVDLGDISGINASVVNIQKEIDRLNEVAKNLNESLIDLQELGKYEQYIKWPWYIWLGFIAGLIAIVMVTIMLCCMTSCCSCLKGCCSCGSCCKFDEDDSEPVLKGVKLHYT',\n",
       " 'MSDNGPQNQRNAPRITFGGPSDSTGSNQNGERSGARSKQRRPQGLPNNTASWFTALTQHGKEDLKFPRGQGVPINTNSSPDDQIGYYRRATRRIRGGDGKMKDLSPRWYFYYLGTGPEAGLPYGANKDGIIWVATEGALNTPKDHIGTRNPANNAAIVLQLPQGTTLPKGFYAEGSRGGSQASSRSSSRSRNSSRNSTPGSSRGTSPARMAGNGGDAALALLLLDRLNQLESKMSGKGQQQQGQTVTKKSAAEASKKPRQKRTATKAYNVTQAFGRRGPEQTQGNFGDQELIRQGTDYKHWPQIAQFAPSASAFFGMSRIGMEVTPSGTWLTYTGAIKLDDKDPNFKDQVILLNKHIDAYKTFPPTEPKKDKKKKADETQALPQRQKKQQTVTLLPAADLDDFSKQLQQSMSSADSTQA',\n",
       " 'MSGVWLHTTYLMSLVSLNWLHICIVLSTLQMRMKKKVIVKKKSLSHQLNMSMVLKMITKVNLWNLVPLLLLFNLKKSKKKIG',\n",
       " 'MLLLKSVNFNFVMIHFWVFITTKTTKVGWKVSSEFILVRIIALLNMSLSLFLWTLKENRVISKILGNLCLRILMVILKYILSTRLLI',\n",
       " 'MADSNGTITVEELKKLLEQWNLVIGFLFLTWICLLQFAYANRNRFLYIIKLIFLWLLWPVTLACFVLAAVYRINWITGGIAIAMACLVGLMWLSYFIASFRLFARTRSMWSFNPETNILLNVPLHGTILTRPLLESELVIGAVILRGHLRIAGHHLGRCDIKDLPKEITVATSRTLSYYKLGASQRVAGDSGFAAYSRYRIGNYKLNTDHSSSSDNIALLVQ',\n",
       " 'MKFLVFLGIITTVAAFHQECSLQSCTQHQPYVVDDPCPIHFYSKWYIRVGARKSAPLIELCVDEAGSKSPIQYIDIGNYTVSCLPFTINCQEPKLGSLVVRCSFYEDFLEYHDVRVVLDFI',\n",
       " 'MDPKISEMHPALRLVDPQIQLAVTRMENAVGRDQNNVGPKVYPIILRLGSPLSLNMARKTLNSLEDKAFQLTPIAVQMTKLATTEELPDEFVVVTVK',\n",
       " 'MLQSCYNFLKEQHCQKASTQKGAEAAVKPLLVPHHVVATVQEIQLQAAVGELLLLEWLAMAVMLLLLCCCLTD',\n",
       " 'MGFWNGISSKAKASLLFLQSLYSARSRLKHKDREKGLQGQQQRAKGVSKLLQTTTASCKQSEHPWRVLVAISF',\n",
       " 'MNSNRDFCAVNILIKNSNLVRSICSWCYNTDTTKRTWCNVKNLKCLWITDSISSVSNVSAKLLERQKLFVRLSKNTCAC',\n",
       " 'MATSSFITVLTKKNLAVSHWYFAHMRDKDTKCLTTTTVLNAFEFCYQLNHNMTMRCSSSIRTFDEHIGLFKLRQNAFFNFY',\n",
       " 'MSRISSVCGSRTASVVSAMSLPNCWKGRNFLLDSVRTPVPVKPLKLKLTHLFLTKLVDFLGPQTVAGACRSSKESTTTLYGW',\n",
       " 'MSPTTSVVFTLHSRTSFCMVGFSTTSSETGFRSSQARLSIPCASSDFSTSNEFDVSTGFVLQRQRIHQVFGLYVALLVALLTCQTIGLCNNLAPFLKEGV']"
      ]
     },
     "execution_count": 22,
     "metadata": {},
     "output_type": "execute_result"
    }
   ],
   "source": [
    "find_genes(\"data/NC_045512.2.fa\")"
   ]
  },
  {
   "cell_type": "markdown",
   "metadata": {},
   "source": [
    "The output above may seem daunting at first, but to break it down into simple terms, the output shows us a list of eighteen possible proteins we can decode. Running each protein from the list through the [protein-BLAST](http://www.ncbi.nlm.nih.gov/blast/Blast.cgi?PROGRAM=blastp&PAGE_TYPE=BlastSearch&LINK_LOC=blasthome) tool, we can narrow the eighteen possible proteins into five major proteins:\n",
    "\n",
    "1. **Polyprotein ORF1a:** a large \"precursor protein\" from which many of the virus's proteins are formed. This is done by cutting or cleaving the polyprotein at certain locations.\n",
    "    1. Amino Acid Sequence: ![Poly Protein ORF1a](images/polyprotein_orf1a.png)\n",
    "    \n",
    "    2. Length of the Protein: 2595 amino acids\n",
    "    \n",
    "    3. Accession Number: QJW69675.1\n",
    "    \n",
    "2. **Nucleocapsid Protein**: carries the virus's genetic material.\n",
    "    1. Amino Acid Sequence: ![Nucleocapsid Protein](images/nucleocapsid_protein.png)\n",
    "    2. Length of the Protein: 419 amino acids\n",
    "    3. Accession Number: QRV71356.1\n",
    "    \n",
    "3. **Envelope Protein**: forms part of the outer layer of the virus, and protects it from the host's immune system as the virus travels between host cells.\n",
    "    1. Amino Acid Sequence: MYSFVSEETGTLIVNSVLLFLAFVVFLLVTLAILTALRLCAYCCNIVNVSLVKPSFYVYSRVKNLNSSRVPDLLV\n",
    "    2. Length of the Protein: 75 amino acids\n",
    "    3. Accession Number: QPK75943.1\n",
    "    \n",
    "4. **Membrane Protein**: part of the outer layer of the virus that fuses with the host cell's membrane (the cell's outer layer) when the virus enters the host cell.\n",
    "    1. Amino Acid Sequence: ![Membrane Protein](images/membrane_protein.png)\n",
    "    2. Length of the Protein: 222 amino acids\n",
    "    3. Accession Number: YP_009724393.1\n",
    "    \n",
    "5. **Spike Protein:** binds with specific receptors on the host cell, starting the infection of the host cell. The spike protein ensures that the virus only infects the type(s) of host cells that it is suited for.\n",
    "    1. Amino Acid Sequence: ![Spike Protein](images/spike_protein.png)\n",
    "    2. Length of the Protein: 1282 amino acids\n",
    "    3. Accession Number: BCN86353.1"
   ]
  },
  {
   "cell_type": "markdown",
   "metadata": {},
   "source": [
    "This information is beneficial since we know the specific amino acid sequence, length, and accession number. We can create a treatment or vaccination that could potentially target these proteins. For example, treatment would block a spike protein's ability to bind with and infect the proper host cell, reducing the virus's chances of infecting a person."
   ]
  }
 ],
 "metadata": {
  "kernelspec": {
   "display_name": "Python 3 (ipykernel)",
   "language": "python",
   "name": "python3"
  },
  "language_info": {
   "codemirror_mode": {
    "name": "ipython",
    "version": 3
   },
   "file_extension": ".py",
   "mimetype": "text/x-python",
   "name": "python",
   "nbconvert_exporter": "python",
   "pygments_lexer": "ipython3",
   "version": "3.9.7"
  }
 },
 "nbformat": 4,
 "nbformat_minor": 4
}
